{
 "metadata": {
  "name": "",
  "signature": "sha256:265f9924f8b0c74695541f084a16d97a7682c13ea314c35ee28c49195023a82b"
 },
 "nbformat": 3,
 "nbformat_minor": 0,
 "worksheets": [
  {
   "cells": [
    {
     "cell_type": "code",
     "collapsed": false,
     "input": [
      "import os\n",
      "import glob\n",
      "from path_helpers import path"
     ],
     "language": "python",
     "metadata": {},
     "outputs": [],
     "prompt_number": 4
    },
    {
     "cell_type": "heading",
     "level": 1,
     "metadata": {},
     "source": [
      "How to build MicroDrop Portable"
     ]
    },
    {
     "cell_type": "heading",
     "level": 2,
     "metadata": {},
     "source": [
      "Install WinPython-32bit-<...>"
     ]
    },
    {
     "cell_type": "markdown",
     "metadata": {},
     "source": [
      " - Navigate to the [WinPython][1] website.\n",
      " - Download the latest 32-bit Python 2.7 release of WinPython from the download page.\n",
      " - Install WinPython in Portable MicroDrop root directory *(containing `Microdrop.bat`, `Build`, etc.)*, i.e.:\n",
      "\n",
      "[1]: http://winpython.sourceforge.net/"
     ]
    },
    {
     "cell_type": "code",
     "collapsed": false,
     "input": [
      "str(path('..').abspath())"
     ],
     "language": "python",
     "metadata": {},
     "outputs": [
      {
       "metadata": {},
       "output_type": "pyout",
       "prompt_number": 6,
       "text": [
        "'C:\\\\Users\\\\Christian\\\\Documents\\\\MicroDrop Portable'"
       ]
      }
     ],
     "prompt_number": 6
    },
    {
     "cell_type": "heading",
     "level": 2,
     "metadata": {},
     "source": [
      "Add development directory of MicroDrop to Python path"
     ]
    },
    {
     "cell_type": "code",
     "collapsed": false,
     "input": [
      "# Find site-packages directory of WinPython installation.\n",
      "win_python_root = path('..').dirs('WinPython*')[0]\n",
      "python_root = win_python_root.dirs('python*')[0]\n",
      "site_packages = python_root.joinpath('Lib', 'site-packages')\n",
      "\n",
      "# Add `microdrop-app` path to WinPython path.\n",
      "path('easy-install.pth').copy(site_packages)\n",
      "path('microdrop.egg-link').copy(site_packages)"
     ],
     "language": "python",
     "metadata": {},
     "outputs": [],
     "prompt_number": 3
    },
    {
     "cell_type": "heading",
     "level": 2,
     "metadata": {},
     "source": [
      "Install `microdrop` binary dependencies"
     ]
    },
    {
     "cell_type": "heading",
     "level": 3,
     "metadata": {},
     "source": [
      "Install compatible packages through WinPython `Control Panel`"
     ]
    },
    {
     "cell_type": "markdown",
     "metadata": {},
     "source": [
      " - Load `WinPython-32bit-<...>\\WinPython Control Panel.exe`."
     ]
    },
    {
     "cell_type": "code",
     "collapsed": true,
     "input": [
      "!$win_python_root\\WinPython Control Panel.exe"
     ],
     "language": "python",
     "metadata": {},
     "outputs": [],
     "prompt_number": 2
    },
    {
     "cell_type": "markdown",
     "metadata": {},
     "source": [
      " - Open `micrdrop_depencies` directory in Explorer."
     ]
    },
    {
     "cell_type": "code",
     "collapsed": true,
     "input": [
      "!start microdrop_dependencies"
     ],
     "language": "python",
     "metadata": {},
     "outputs": [],
     "prompt_number": 3
    },
    {
     "cell_type": "markdown",
     "metadata": {},
     "source": [
      " - Drag-and-drop all files in `microdrop_dependencies` into `Install/upgrade packages` pane.\n",
      " - Click `Install packages`"
     ]
    },
    {
     "cell_type": "code",
     "collapsed": true,
     "input": [
      "from IPython.display import display, Image\n",
      "\n",
      "Image('WinPython-control_panel.png')"
     ],
     "language": "python",
     "metadata": {},
     "outputs": [
      {
       "metadata": {},
       "output_type": "pyout",
       "png": "[encoded data removed]",
       "prompt_number": 4,
       "text": [
        "<IPython.core.display.Image at 0x24cc2d0>"
       ]
      }
     ],
     "prompt_number": 4
    },
    {
     "cell_type": "heading",
     "level": 3,
     "metadata": {},
     "source": [
      "Install custom-packaged `pygtk`"
     ]
    },
    {
     "cell_type": "markdown",
     "metadata": {},
     "source": [
      " - Extract `pygtk-all-in-one-2.24.2.win32-py2.7-dump.exe` self-extracting archive into root of `WinPython-32bit-<...>\\python-<...>`"
     ]
    },
    {
     "cell_type": "heading",
     "level": 3,
     "metadata": {},
     "source": [
      "Install `pygst` from `microfluidics.utoronto.ca` gitweb snapshot"
     ]
    },
    {
     "cell_type": "markdown",
     "metadata": {},
     "source": [
      " - Load `WinPython-32bit-<...>\\WinPython Command Prompt.exe`.\n",
      " - Run:\n",
      "```\n",
      "    .\\python.exe -m pip install http://microfluidics.utoronto.ca/git/python___pygst.git/snapshot/43321ed8c1c59881a6bddd076b7fe19338b88f3e.zip\n",
      "```"
     ]
    },
    {
     "cell_type": "code",
     "collapsed": true,
     "input": [
      "!$python_root\\python.exe -m pip install http://microfluidics.utoronto.ca/git/python___pygst.git/snapshot/43321ed8c1c59881a6bddd076b7fe19338b88f3e.zip"
     ],
     "language": "python",
     "metadata": {},
     "outputs": [
      {
       "output_type": "stream",
       "stream": "stdout",
       "text": [
        "Downloading/unpacking http://microfluidics.utoronto.ca/git/python___pygst.git/snapshot/43321ed8c1c59881a6bddd076b7fe19338b88f3e.zip\n",
        "  Running setup.py (path:c:\\users\\christ~1\\appdata\\local\\temp\\pip-jss2bz-build\\setup.py) egg_info for package from http://microfluidics.utoronto.ca/git/python___pygst.git/snapshot/43321ed8c1c59881a6bddd076b7fe19338b88f3e.zip\n",
        "    \n",
        "  Requirement already satisfied (use --upgrade to upgrade): pygst==0.10.7 from http://microfluidics.utoronto.ca/git/python___pygst.git/snapshot/43321ed8c1c59881a6bddd076b7fe19338b88f3e.zip in c:\\users\\christian\\documents\\microdrop portable\\winpython-32bit-2.7.9.1\\python-2.7.9\\lib\\site-packages\n",
        "Cleaning up...\n"
       ]
      }
     ],
     "prompt_number": 11
    }
   ],
   "metadata": {}
  }
 ]
}